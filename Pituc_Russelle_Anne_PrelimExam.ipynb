{
  "nbformat": 4,
  "nbformat_minor": 0,
  "metadata": {
    "colab": {
      "provenance": [],
      "authorship_tag": "ABX9TyNArs6RJ4a8cWjJQAC5vOBD",
      "include_colab_link": true
    },
    "kernelspec": {
      "name": "python3",
      "display_name": "Python 3"
    },
    "language_info": {
      "name": "python"
    }
  },
  "cells": [
    {
      "cell_type": "markdown",
      "metadata": {
        "id": "view-in-github",
        "colab_type": "text"
      },
      "source": [
        "<a href=\"https://colab.research.google.com/github/RussellePituc/CPE009A-OOP/blob/main/Pituc_Russelle_Anne_PrelimExam.ipynb\" target=\"_parent\"><img src=\"https://colab.research.google.com/assets/colab-badge.svg\" alt=\"Open In Colab\"/></a>"
      ]
    },
    {
      "cell_type": "code",
      "source": [
        "fullname=input(\"Enter your fullname:\")\n",
        "age=input(\"Enter your age:\")\n",
        "print(\"fullname and age: \" +fullname+\"\"+\" and \"+\"\"+ age)"
      ],
      "metadata": {
        "colab": {
          "base_uri": "https://localhost:8080/"
        },
        "id": "VGVfuy2jvvu7",
        "outputId": "c81428de-a41f-4cc1-a90f-81c56d83c37c"
      },
      "execution_count": 14,
      "outputs": [
        {
          "output_type": "stream",
          "name": "stdout",
          "text": [
            "Enter your fullname:Russelle Anne M. Pituc\n",
            "Enter your age:21\n",
            "fullname and age: Russelle Anne M. Pituc and 21\n"
          ]
        }
      ]
    }
  ]
}