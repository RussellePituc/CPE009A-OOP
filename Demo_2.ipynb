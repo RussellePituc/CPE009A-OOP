{
  "nbformat": 4,
  "nbformat_minor": 0,
  "metadata": {
    "colab": {
      "provenance": [],
      "toc_visible": true,
      "authorship_tag": "ABX9TyNtONBPhZyoxR8nlX6TNkhk",
      "include_colab_link": true
    },
    "kernelspec": {
      "name": "python3",
      "display_name": "Python 3"
    },
    "language_info": {
      "name": "python"
    }
  },
  "cells": [
    {
      "cell_type": "markdown",
      "metadata": {
        "id": "view-in-github",
        "colab_type": "text"
      },
      "source": [
        "<a href=\"https://colab.research.google.com/github/RussellePituc/CPE009A-OOP/blob/main/Demo_2.ipynb\" target=\"_parent\"><img src=\"https://colab.research.google.com/assets/colab-badge.svg\" alt=\"Open In Colab\"/></a>"
      ]
    },
    {
      "cell_type": "code",
      "execution_count": 3,
      "metadata": {
        "colab": {
          "base_uri": "https://localhost:8080/"
        },
        "id": "32YfykqfNVbs",
        "outputId": "1dd8117c-7810-43ca-e947-cbd0d84a79ad"
      },
      "outputs": [
        {
          "output_type": "stream",
          "name": "stdout",
          "text": [
            "150\n",
            "50.0\n"
          ]
        }
      ],
      "source": [
        "num1=50\n",
        "num2=50\n",
        "num3=50\n",
        "sum=num1+num2+num3\n",
        "average=sum/3\n",
        "print(sum)\n",
        "print(average)"
      ]
    },
    {
      "cell_type": "code",
      "source": [
        "print(\"Input three grades\")\n",
        "num1=input()\n",
        "num2=input()\n",
        "num3=input()\n",
        "average=(int(num1)+int(num2)+int(num3)/3)\n",
        "print(average)"
      ],
      "metadata": {
        "colab": {
          "base_uri": "https://localhost:8080/"
        },
        "id": "8R6o2CjPPcwG",
        "outputId": "db1995fd-44d7-4970-e38b-92cf07bc3a6c"
      },
      "execution_count": 11,
      "outputs": [
        {
          "output_type": "stream",
          "name": "stdout",
          "text": [
            "Input three grades\n",
            "9\n",
            "8\n",
            "5\n",
            "18.666666666666668\n"
          ]
        }
      ]
    }
  ]
}