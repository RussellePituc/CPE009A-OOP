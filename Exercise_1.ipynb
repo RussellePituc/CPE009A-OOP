{
  "nbformat": 4,
  "nbformat_minor": 0,
  "metadata": {
    "colab": {
      "provenance": [],
      "authorship_tag": "ABX9TyPKByJKVY09llr+hRBNGlyb",
      "include_colab_link": true
    },
    "kernelspec": {
      "name": "python3",
      "display_name": "Python 3"
    },
    "language_info": {
      "name": "python"
    }
  },
  "cells": [
    {
      "cell_type": "markdown",
      "metadata": {
        "id": "view-in-github",
        "colab_type": "text"
      },
      "source": [
        "<a href=\"https://colab.research.google.com/github/RussellePituc/CPE009A-OOP/blob/main/Exercise_1.ipynb\" target=\"_parent\"><img src=\"https://colab.research.google.com/assets/colab-badge.svg\" alt=\"Open In Colab\"/></a>"
      ]
    },
    {
      "cell_type": "markdown",
      "source": [
        "Algorithm to get the perimeter and area of a rectangle\n",
        "1. Ask the length and the width of the rectangle\n",
        "2. Proceed to calculate\n",
        "3. Show the output"
      ],
      "metadata": {
        "id": "5E9L8Q-aTf-_"
      }
    },
    {
      "cell_type": "markdown",
      "source": [],
      "metadata": {
        "id": "nPADNKv2YupH"
      }
    },
    {
      "cell_type": "code",
      "source": [
        "length=input(\"Enter the length:\")\n",
        "width=input(\"Enter the width:\")\n",
        "\n",
        "Boy1=int(length)+int(width)\n",
        "Boy2=int(B1oy1)*2\n",
        "area=int(length)*(width)\n",
        "\n",
        "print(\"Perimeter of the rectangle:\",str (Boy2))\n",
        "print(\"Area of the rectangle:\",str(Boy1))"
      ],
      "metadata": {
        "colab": {
          "base_uri": "https://localhost:8080/"
        },
        "id": "xXnQW1uSUmE-",
        "outputId": "b73a3873-3758-4881-86ac-9017459397da"
      },
      "execution_count": 9,
      "outputs": [
        {
          "output_type": "stream",
          "name": "stdout",
          "text": [
            "Enter the length:12\n",
            "Enter the width:12\n",
            "Perimeter of the rectangle: 48\n",
            "Area of the rectangle: 24\n"
          ]
        }
      ]
    }
  ]
}