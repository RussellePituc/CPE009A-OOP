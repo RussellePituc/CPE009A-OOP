{
  "nbformat": 4,
  "nbformat_minor": 0,
  "metadata": {
    "colab": {
      "provenance": [],
      "authorship_tag": "ABX9TyOUDRMW3Ic3dlRX3qDj2r/5",
      "include_colab_link": true
    },
    "kernelspec": {
      "name": "python3",
      "display_name": "Python 3"
    },
    "language_info": {
      "name": "python"
    }
  },
  "cells": [
    {
      "cell_type": "markdown",
      "metadata": {
        "id": "view-in-github",
        "colab_type": "text"
      },
      "source": [
        "<a href=\"https://colab.research.google.com/github/RussellePituc/CPE009A-OOP/blob/main/pycharm_demo.ipynb\" target=\"_parent\"><img src=\"https://colab.research.google.com/assets/colab-badge.svg\" alt=\"Open In Colab\"/></a>"
      ]
    },
    {
      "cell_type": "code",
      "execution_count": null,
      "metadata": {
        "id": "qYRQmEit72-A"
      },
      "outputs": [],
      "source": [
        "from tkinter import *\n",
        "\n",
        "class MyWindow:\n",
        "    def __init__(self, window):\n",
        "        self.lbl = Label(window, text=\"Simple Calculator\")\n",
        "        self.lbl.place(x=75, y=65)\n",
        "\n",
        "        self.lbl1 = Label(window, text=\"Number 1:\", fg=\"blue\")\n",
        "        self.lbl1.place(x=80, y=100)\n",
        "        self.txt1 = Entry(window, bd=2)\n",
        "        self.txt1.place(x=150, y=100)\n",
        "\n",
        "        self.lbl2 = Label(window, text=\"Number 2:\", fg=\"orange\")\n",
        "        self.lbl2.place(x=80, y=150)\n",
        "        self.txt2 = Entry(window, bd=2)\n",
        "        self.txt2.place(x=150, y=150)\n",
        "\n",
        "        self.btn_add = Button(window, text=\"Add\", command=self.add)\n",
        "        self.btn_add.place(x=80, y=200)\n",
        "\n",
        "        self.btn_sub = Button(window, text=\"Subtract\", command=self.sub)\n",
        "        self.btn_sub.place(x=120, y=200)\n",
        "\n",
        "        self.btn_mul = Button(window, text=\"Multiply\", command=self.mul)\n",
        "        self.btn_mul.place(x=180, y=200)\n",
        "\n",
        "        self.btn_div = Button(window, text=\"Divide\", command=self.div)\n",
        "        self.btn_div.place(x=240, y=200)\n",
        "\n",
        "        self.lbl3 = Label(window, text=\"Answer:\")\n",
        "        self.lbl3.place(x=80, y=250)\n",
        "        self.txt3 = Entry(window, bd=2)\n",
        "        self.txt3.place(x=150, y=250)\n",
        "\n",
        "    def add(self):\n",
        "        self.txt3.delete(0, 'end')\n",
        "        num1 = int(self.txt1.get())\n",
        "        num2 = int(self.txt2.get())\n",
        "        result = num1 + num2\n",
        "        self.txt3.insert(END, str(result))\n",
        "\n",
        "    def sub(self):\n",
        "        self.txt3.delete(0, 'end')\n",
        "        num1 = int(self.txt1.get())\n",
        "        num2 = int(self.txt2.get())\n",
        "        result = num1 - num2\n",
        "        self.txt3.insert(END, str(result))\n",
        "\n",
        "    def mul(self):\n",
        "        self.txt3.delete(0, 'end')\n",
        "        num1 = int(self.txt1.get())\n",
        "        num2 = int(self.txt2.get())\n",
        "        result = num1 * num2\n",
        "        self.txt3.insert(END, str(result))\n",
        "\n",
        "    def div(self):\n",
        "        self.txt3.delete(0, 'end')\n",
        "        num1 = int(self.txt1.get())\n",
        "        num2 = int(self.txt2.get())\n",
        "        if num2 != 0:\n",
        "            result = num1 / num2\n",
        "            self.txt3.insert(END, str(result))\n",
        "        else:\n",
        "            self.txt3.insert(END, \"Error: Division by zero\")\n",
        "\n",
        "window = Tk()\n",
        "mywin = MyWindow(window)\n",
        "window.geometry(\"400x400+40+90\")\n",
        "window.title(\"Python Project\")\n",
        "window.mainloop()"
      ]
    }
  ]
}