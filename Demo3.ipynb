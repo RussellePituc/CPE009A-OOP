{
  "nbformat": 4,
  "nbformat_minor": 0,
  "metadata": {
    "colab": {
      "provenance": [],
      "authorship_tag": "ABX9TyMZAadVZVcAM3uixl5p7w38",
      "include_colab_link": true
    },
    "kernelspec": {
      "name": "python3",
      "display_name": "Python 3"
    },
    "language_info": {
      "name": "python"
    }
  },
  "cells": [
    {
      "cell_type": "markdown",
      "metadata": {
        "id": "view-in-github",
        "colab_type": "text"
      },
      "source": [
        "<a href=\"https://colab.research.google.com/github/RussellePituc/CPE009A-OOP/blob/main/Demo3.ipynb\" target=\"_parent\"><img src=\"https://colab.research.google.com/assets/colab-badge.svg\" alt=\"Open In Colab\"/></a>"
      ]
    },
    {
      "cell_type": "markdown",
      "source": [
        "If statement\n"
      ],
      "metadata": {
        "id": "3yl79_E2OjLf"
      }
    },
    {
      "cell_type": "code",
      "source": [
        "a=12\n",
        "b=100\n",
        "if b>a:\n",
        "  print(\"b is greater than a\")\n"
      ],
      "metadata": {
        "colab": {
          "base_uri": "https://localhost:8080/"
        },
        "id": "W0bSBtTQOmfn",
        "outputId": "cf96ef1e-ab26-439d-b0e6-368871f320ec"
      },
      "execution_count": 8,
      "outputs": [
        {
          "output_type": "stream",
          "name": "stdout",
          "text": [
            "b is greater than a\n"
          ]
        }
      ]
    },
    {
      "cell_type": "markdown",
      "source": [
        "Elif statement"
      ],
      "metadata": {
        "id": "xpNHSjcVPS6_"
      }
    },
    {
      "cell_type": "code",
      "source": [
        "a=12\n",
        "b=12\n",
        "if b>a:\n",
        "  print(\"b is greater than a\")\n",
        "elif a==b:\n",
        "  print(\"b and a is equal\")"
      ],
      "metadata": {
        "colab": {
          "base_uri": "https://localhost:8080/"
        },
        "id": "EybA8MT-PiKI",
        "outputId": "89649e4f-dbe5-4bc1-bbe9-7324a78eab4f"
      },
      "execution_count": 10,
      "outputs": [
        {
          "output_type": "stream",
          "name": "stdout",
          "text": [
            "b and a is equal\n"
          ]
        }
      ]
    },
    {
      "cell_type": "markdown",
      "source": [
        "Else Statements"
      ],
      "metadata": {
        "id": "gM-zwJhKQe2A"
      }
    },
    {
      "cell_type": "code",
      "source": [
        "a=200\n",
        "b=33\n",
        "if b>a:\n",
        "  print(\"b is greater than a\")\n",
        "elif a==b:\n",
        "  print(\"a and b are equal\")\n",
        "else:\n",
        "  print(\"a is greater than b\")"
      ],
      "metadata": {
        "colab": {
          "base_uri": "https://localhost:8080/"
        },
        "id": "xA9JzQ4HQhlA",
        "outputId": "565a99c1-85e8-42e9-a116-543e577599fc"
      },
      "execution_count": 11,
      "outputs": [
        {
          "output_type": "stream",
          "name": "stdout",
          "text": [
            "a is greater than b\n"
          ]
        }
      ]
    },
    {
      "cell_type": "markdown",
      "source": [
        "Short Hand If Statement\n"
      ],
      "metadata": {
        "id": "dE9J-g1vSdiw"
      }
    },
    {
      "cell_type": "code",
      "source": [
        "if a>b:print(\"a is greater than b\")"
      ],
      "metadata": {
        "colab": {
          "base_uri": "https://localhost:8080/"
        },
        "id": "tgetc2IDShZA",
        "outputId": "1a2258b4-cc8f-411a-fcca-dcf90f2ae734"
      },
      "execution_count": 12,
      "outputs": [
        {
          "output_type": "stream",
          "name": "stdout",
          "text": [
            "a is greater than b\n"
          ]
        }
      ]
    },
    {
      "cell_type": "markdown",
      "source": [
        "Short Hand If..Else Statement"
      ],
      "metadata": {
        "id": "Izs_GHXfTJSh"
      }
    },
    {
      "cell_type": "code",
      "source": [
        "a=2\n",
        "b=330\n",
        "print(\"A\") if a>b else print (\"B\")"
      ],
      "metadata": {
        "colab": {
          "base_uri": "https://localhost:8080/"
        },
        "id": "kua4XUAFTP5Q",
        "outputId": "e8c39ddf-91f9-4a01-9f9f-bbe3ce3f200b"
      },
      "execution_count": 13,
      "outputs": [
        {
          "output_type": "stream",
          "name": "stdout",
          "text": [
            "B\n"
          ]
        }
      ]
    },
    {
      "cell_type": "markdown",
      "source": [
        "And-Both conditions are true"
      ],
      "metadata": {
        "id": "P-vicvlmTuvx"
      }
    },
    {
      "cell_type": "code",
      "source": [
        "a=200\n",
        "b=33\n",
        "c=500\n",
        "if a>b and c>a:\n",
        "  print(\"Both conditions are True\")"
      ],
      "metadata": {
        "colab": {
          "base_uri": "https://localhost:8080/"
        },
        "id": "MqV6ZEzrTxgA",
        "outputId": "477f9d13-6afc-490b-fad1-9ffa42c1def7"
      },
      "execution_count": 15,
      "outputs": [
        {
          "output_type": "stream",
          "name": "stdout",
          "text": [
            "Both conditions are True\n"
          ]
        }
      ]
    },
    {
      "cell_type": "markdown",
      "source": [
        "Or-at least one of the conditions is true"
      ],
      "metadata": {
        "id": "ph0A4bd8UxmA"
      }
    },
    {
      "cell_type": "code",
      "source": [
        "a=200\n",
        "b=33\n",
        "c=500\n",
        "if a>b or a>c:\n",
        "  print(\"At least one of the conditions is True\")"
      ],
      "metadata": {
        "colab": {
          "base_uri": "https://localhost:8080/"
        },
        "id": "y4FlliqWU1no",
        "outputId": "4291e1fa-53e3-427d-987a-9ae170f01630"
      },
      "execution_count": 17,
      "outputs": [
        {
          "output_type": "stream",
          "name": "stdout",
          "text": [
            "At least one of the conditions is True\n"
          ]
        }
      ]
    },
    {
      "cell_type": "markdown",
      "source": [
        "Nested if"
      ],
      "metadata": {
        "id": "-kiIifUhVDxw"
      }
    },
    {
      "cell_type": "code",
      "source": [
        "x=41\n",
        "if x>10:\n",
        "  print(\"Above ten,\")\n",
        "  if x>20:\n",
        "    print(\"and also above 20\")\n",
        "    if(x>30):\n",
        "      print(\"and also above 30\")\n",
        "      if (x>40):\n",
        "        print(\"and also above 40\")\n",
        "        if (x>50):\n",
        "          print(\"and also above 50\")\n",
        "        else:\n",
        "          print(\"but not above 50\")\n",
        "      else:\n",
        "        print(\"but not above 40\")\n",
        "    else:\n",
        "      print(\"but not above 30\")\n",
        "  else:\n",
        "      print(\"but not above 20\")"
      ],
      "metadata": {
        "colab": {
          "base_uri": "https://localhost:8080/"
        },
        "id": "7YDtKCUeVPU4",
        "outputId": "8c09377c-d3e9-4c0c-ed1d-29499a725191"
      },
      "execution_count": 40,
      "outputs": [
        {
          "output_type": "stream",
          "name": "stdout",
          "text": [
            "Above ten,\n",
            "and also above 20\n",
            "and also above 30\n",
            "and also above 40\n",
            "but not above 50\n"
          ]
        }
      ]
    },
    {
      "cell_type": "markdown",
      "source": [
        "Write a program that determines if the input age is qualified to vote or not . The qualifying age is 18 years old and above."
      ],
      "metadata": {
        "id": "3kKXcb8rau0I"
      }
    },
    {
      "cell_type": "code",
      "source": [
        "#Prompt the user to input their age\n",
        "age=int(input(\"Enter your age \"))\n",
        "\n",
        "#Check if the age is 18 or above\n",
        "if age >= 18:\n",
        "  print(\"You are eligible to vote.\")\n",
        "else:\n",
        "  print(\"You are not eligible to vote.\")"
      ],
      "metadata": {
        "colab": {
          "base_uri": "https://localhost:8080/"
        },
        "id": "d-McWkOMcMAI",
        "outputId": "9355010d-53a8-4616-cdad-8d9d8e9a50e9"
      },
      "execution_count": 65,
      "outputs": [
        {
          "output_type": "stream",
          "name": "stdout",
          "text": [
            "Enter your age 12\n",
            "You are not eligible to vote.\n"
          ]
        }
      ]
    },
    {
      "cell_type": "markdown",
      "source": [
        "Write a program that determines if the input number is POSITIVE,NEGATIVE and ZERO."
      ],
      "metadata": {
        "id": "F7H74W__epPY"
      }
    },
    {
      "cell_type": "code",
      "source": [
        "#Prompt the user to input a number, and convert the inputto a floating-point numer\n",
        "num=float(input(\"Input a numer \"))\n",
        "#Check if the number is greater than zero\n",
        "if num>0:\n",
        "    print(\"It is positive number\")\n",
        "elif num==0:\n",
        "    print(\"It is zero\")\n",
        "else:\n",
        "    print(\"It is a negative number\")\n",
        "\n",
        "\n"
      ],
      "metadata": {
        "colab": {
          "base_uri": "https://localhost:8080/"
        },
        "id": "Pt3hf-9-gaM4",
        "outputId": "195c1c45-d941-4575-ab6f-74319642098a"
      },
      "execution_count": 68,
      "outputs": [
        {
          "output_type": "stream",
          "name": "stdout",
          "text": [
            "Input a numer 21\n",
            "It is positive number\n"
          ]
        }
      ]
    },
    {
      "cell_type": "markdown",
      "source": [
        "Write a program to determine if the grade"
      ],
      "metadata": {
        "id": "Jw-kVyi2hw7P"
      }
    },
    {
      "cell_type": "code",
      "source": [
        "#Prompt the user to input the grade\n",
        "grade=int(input(\"Input a grade \"))\n",
        "if grade>50:\n",
        "    print(\"You passed\")\n",
        "if grade==50:\n",
        "    print(\"You passed\")\n",
        "else:\n",
        "    print(\"Remedial\")"
      ],
      "metadata": {
        "colab": {
          "base_uri": "https://localhost:8080/"
        },
        "id": "txyGH0ZSiF5X",
        "outputId": "ef8bcbd2-43df-42ab-aba7-bc8e7f1ac86a"
      },
      "execution_count": 81,
      "outputs": [
        {
          "output_type": "stream",
          "name": "stdout",
          "text": [
            "Input a grade 50\n",
            "You passed\n"
          ]
        }
      ]
    }
  ]
}