{
  "nbformat": 4,
  "nbformat_minor": 0,
  "metadata": {
    "colab": {
      "provenance": [],
      "authorship_tag": "ABX9TyPkiTuSgEWzTsLblnLHAbil",
      "include_colab_link": true
    },
    "kernelspec": {
      "name": "python3",
      "display_name": "Python 3"
    },
    "language_info": {
      "name": "python"
    }
  },
  "cells": [
    {
      "cell_type": "markdown",
      "metadata": {
        "id": "view-in-github",
        "colab_type": "text"
      },
      "source": [
        "<a href=\"https://colab.research.google.com/github/RussellePituc/CPE009A-OOP/blob/main/Concept_of_OOP.ipynb\" target=\"_parent\"><img src=\"https://colab.research.google.com/assets/colab-badge.svg\" alt=\"Open In Colab\"/></a>"
      ]
    },
    {
      "cell_type": "code",
      "execution_count": 2,
      "metadata": {
        "colab": {
          "base_uri": "https://localhost:8080/"
        },
        "id": "QAcLdgfEZKgG",
        "outputId": "6abd952b-a2b3-4007-e0dd-d2036d9a5ae5"
      },
      "outputs": [
        {
          "output_type": "stream",
          "name": "stdout",
          "text": [
            "<__main__.car object at 0x7a1b63fbc730>\n"
          ]
        }
      ],
      "source": [
        "class car:\n",
        "  pass\n",
        "\n",
        "obj1 = car()\n",
        "print(obj1)\n"
      ]
    },
    {
      "cell_type": "code",
      "source": [
        "class Car: #class constructor\n",
        "  def __init__(self,name,color,mileage):\n",
        "    self.name = name #car attributes\n",
        "    self.color = color\n",
        "    self.mileage = mileage\n",
        "\n",
        "obj1 = Car(\"BMW\",\"Red\", 1000) #instance of a class\n",
        "obj2 = Car(\"Toyota\",\"Blue\", 1200) #object name\n",
        "print(obj1.name)\n",
        "print(obj1.color)\n",
        "print(obj1.mileage)\n",
        "\n",
        "print(obj2.mileage)\n",
        ""
      ],
      "metadata": {
        "colab": {
          "base_uri": "https://localhost:8080/"
        },
        "id": "Sqj-66e4jlMP",
        "outputId": "0cc02f08-1f2f-4457-86d4-296a0bce67b9"
      },
      "execution_count": 7,
      "outputs": [
        {
          "output_type": "stream",
          "name": "stdout",
          "text": [
            "BMW\n",
            "Red\n",
            "1000\n",
            "1200\n"
          ]
        }
      ]
    },
    {
      "cell_type": "markdown",
      "source": [
        "Aplpication 1 - Write a Python program that prints your student information with the following attributes: Name, Age, Course, and Section. Use class name student(), object name as student\n",
        "\n"
      ],
      "metadata": {
        "id": "M-SDgU8hnIQe"
      }
    },
    {
      "cell_type": "code",
      "source": [
        "class student:\n",
        "  def __init__(self, name, age, course, section):\n",
        "    self.name = name\n",
        "    self.age = age\n",
        "    self.course = course\n",
        "    self.section = section\n",
        "\n",
        "obj1 = student(\"Russelle Anne M. Pituc\", \"21\", \"CPE009A\", \"CPE12S6\")\n",
        "\n",
        "print(obj1.name)\n",
        "print(obj1.age)\n",
        "print(obj1.course)\n",
        "print(obj1.section)\n",
        "\n"
      ],
      "metadata": {
        "colab": {
          "base_uri": "https://localhost:8080/"
        },
        "id": "gimSR-wdnH_n",
        "outputId": "c7dfc31c-3a47-4c7c-b277-d76433cd81fb"
      },
      "execution_count": 9,
      "outputs": [
        {
          "output_type": "stream",
          "name": "stdout",
          "text": [
            "Russelle Anne M. Pituc\n",
            "21\n",
            "CPE009A\n",
            "CPE12S6\n"
          ]
        }
      ]
    }
  ]
}