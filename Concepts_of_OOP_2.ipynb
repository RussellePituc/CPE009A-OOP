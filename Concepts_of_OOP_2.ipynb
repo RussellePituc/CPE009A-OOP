{
  "nbformat": 4,
  "nbformat_minor": 0,
  "metadata": {
    "colab": {
      "provenance": [],
      "authorship_tag": "ABX9TyPy9XHde0dVSrbFh81jv5LJ",
      "include_colab_link": true
    },
    "kernelspec": {
      "name": "python3",
      "display_name": "Python 3"
    },
    "language_info": {
      "name": "python"
    }
  },
  "cells": [
    {
      "cell_type": "markdown",
      "metadata": {
        "id": "view-in-github",
        "colab_type": "text"
      },
      "source": [
        "<a href=\"https://colab.research.google.com/github/RussellePituc/CPE009A-OOP/blob/main/Concepts_of_OOP_2.ipynb\" target=\"_parent\"><img src=\"https://colab.research.google.com/assets/colab-badge.svg\" alt=\"Open In Colab\"/></a>"
      ]
    },
    {
      "cell_type": "markdown",
      "source": [
        "Inheritance , Encapsulation and Creating Multiple Object Names"
      ],
      "metadata": {
        "id": "w7GAlc0PrJ_X"
      }
    },
    {
      "cell_type": "code",
      "execution_count": 11,
      "metadata": {
        "colab": {
          "base_uri": "https://localhost:8080/"
        },
        "id": "NSOK-wfnaiT3",
        "outputId": "200031fb-8bc8-4076-b434-ff369192c54e"
      },
      "outputs": [
        {
          "output_type": "stream",
          "name": "stdout",
          "text": [
            "16\n",
            "6.928\n"
          ]
        }
      ],
      "source": [
        "class RegularPolygon: #creates the super class name RegularPolygon\n",
        "  def __init__(self,side):\n",
        "    self.side = side\n",
        "class Square(RegularPolygon):#inherits the properties of superclass RegularPolygon\n",
        "  def area(self): #defines the method/function to get the area of a square\n",
        "    return self.side * self.side\n",
        "class EquilateralTriangle(RegularPolygon):\n",
        "  def area(self): #defines the method/function to get the area of a equilateral triangle\n",
        "    return self.side * self.side * 0.433\n",
        "\n",
        "square = Square(4) #creates ang object name square\n",
        "print(square.area()) #print the instance of the attribute of Square class\n",
        "\n",
        "equiltriangle = EquilateralTriangle(4) #creates and object name equiltriangle\n",
        "print(equiltriangle.area()) #print the instance of the attribute of EquilateralTriangle class"
      ]
    },
    {
      "cell_type": "markdown",
      "source": [
        "Encapsulation using Mangling (double_underscore)"
      ],
      "metadata": {
        "id": "n2PISYIsryz2"
      }
    },
    {
      "cell_type": "code",
      "source": [
        "class RegularPolygon: #creates the super class name RegularPolygon\n",
        "  def __init__(self,side):\n",
        "    self.side = side\n",
        "  def area(self):\n",
        "    print(self.side *self.side)\n",
        "class Square(RegularPolygon):\n",
        "  pass\n",
        "\n",
        "square = Square(5)\n",
        "square.area()"
      ],
      "metadata": {
        "colab": {
          "base_uri": "https://localhost:8080/"
        },
        "id": "XlToprjkr58W",
        "outputId": "3e91bb9e-f112-4b06-8432-612239bff5a7"
      },
      "execution_count": 17,
      "outputs": [
        {
          "output_type": "stream",
          "name": "stdout",
          "text": [
            "25\n"
          ]
        }
      ]
    },
    {
      "cell_type": "markdown",
      "source": [
        "Application 1"
      ],
      "metadata": {
        "id": "9P3vBeCnuBPv"
      }
    },
    {
      "cell_type": "code",
      "source": [
        "class Student:\n",
        "  def __init__(self,pre,mid,fin):\n",
        "    self.pre = pre\n",
        "    self.mid = mid\n",
        "    self.fin = fin\n",
        "class std1(Student):\n",
        "  def Grade(self):\n",
        "    return (self.pre + self.mid + self.fin)/3\n",
        "class std2(Student):\n",
        "  def Grade(self):\n",
        "    return (self.pre + self.mid + self.fin)/3\n",
        "class std3(Student):\n",
        "  def Grade(self):\n",
        "    return (self.pre + self.mid + self.fin)/3\n",
        "\n",
        "Maynard = std1(85, 75, 86)\n",
        "print(Maynard.Grade())\n",
        "Von = std2(77, 95, 92)\n",
        "print(Von.Grade())\n",
        "Laine= std3(99, 88, 85)\n",
        "print(Laine.Grade())"
      ],
      "metadata": {
        "colab": {
          "base_uri": "https://localhost:8080/"
        },
        "id": "dQgOdu8e3HYD",
        "outputId": "da85dd34-cd61-43d7-e563-232952e2f48c"
      },
      "execution_count": 25,
      "outputs": [
        {
          "output_type": "stream",
          "name": "stdout",
          "text": [
            "82.0\n",
            "88.0\n",
            "90.66666666666667\n"
          ]
        }
      ]
    }
  ]
}